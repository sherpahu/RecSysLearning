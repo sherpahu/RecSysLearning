{
 "metadata": {
  "language_info": {
   "codemirror_mode": {
    "name": "ipython",
    "version": 3
   },
   "file_extension": ".py",
   "mimetype": "text/x-python",
   "name": "python",
   "nbconvert_exporter": "python",
   "pygments_lexer": "ipython3",
   "version": "3.8.5-final"
  },
  "orig_nbformat": 2,
  "kernelspec": {
   "name": "python3",
   "display_name": "Python 3"
  }
 },
 "nbformat": 4,
 "nbformat_minor": 2,
 "cells": [
  {
   "cell_type": "code",
   "execution_count": 1,
   "metadata": {},
   "outputs": [],
   "source": [
    "import numpy as np\n",
    "import pandas as pd \n",
    "from deepctr.models import DIN\n",
    "from deepctr.feature_column import SparseFeat,VarLenSparseFeat,DenseFeat,get_feature_names\n",
    "from sklearn.utils import shuffle"
   ]
  },
  {
   "cell_type": "code",
   "execution_count": 2,
   "metadata": {},
   "outputs": [
    {
     "output_type": "execute_result",
     "data": {
      "text/plain": [
       "         label      I1     I2      I3  C1  C2  C3  C4  C5  C6  C7  C8  C9  \\\n",
       "430412       1  2200.0   1156  2200.0   0   1   1   0   0   0   0   0   0   \n",
       "2555534      0   900.0  12381   900.0   0   0   0   0   0   0   1   0   1   \n",
       "1145222      0  2800.0    675  2800.0   1   0   1   0   1   0   0   0   0   \n",
       "1891978      1  2500.0    804  2500.0   1   0   1   0   0   0   1   0   0   \n",
       "1515007      1  2000.0   2646  2000.0   0   0   1   0   0   0   0   0   0   \n",
       "\n",
       "          C10   C11  \n",
       "430412   1332  4866  \n",
       "2555534  1212  2703  \n",
       "1145222   263   196  \n",
       "1891978    27  2822  \n",
       "1515007  1634  5530  "
      ],
      "text/html": "<div>\n<style scoped>\n    .dataframe tbody tr th:only-of-type {\n        vertical-align: middle;\n    }\n\n    .dataframe tbody tr th {\n        vertical-align: top;\n    }\n\n    .dataframe thead th {\n        text-align: right;\n    }\n</style>\n<table border=\"1\" class=\"dataframe\">\n  <thead>\n    <tr style=\"text-align: right;\">\n      <th></th>\n      <th>label</th>\n      <th>I1</th>\n      <th>I2</th>\n      <th>I3</th>\n      <th>C1</th>\n      <th>C2</th>\n      <th>C3</th>\n      <th>C4</th>\n      <th>C5</th>\n      <th>C6</th>\n      <th>C7</th>\n      <th>C8</th>\n      <th>C9</th>\n      <th>C10</th>\n      <th>C11</th>\n    </tr>\n  </thead>\n  <tbody>\n    <tr>\n      <th>430412</th>\n      <td>1</td>\n      <td>2200.0</td>\n      <td>1156</td>\n      <td>2200.0</td>\n      <td>0</td>\n      <td>1</td>\n      <td>1</td>\n      <td>0</td>\n      <td>0</td>\n      <td>0</td>\n      <td>0</td>\n      <td>0</td>\n      <td>0</td>\n      <td>1332</td>\n      <td>4866</td>\n    </tr>\n    <tr>\n      <th>2555534</th>\n      <td>0</td>\n      <td>900.0</td>\n      <td>12381</td>\n      <td>900.0</td>\n      <td>0</td>\n      <td>0</td>\n      <td>0</td>\n      <td>0</td>\n      <td>0</td>\n      <td>0</td>\n      <td>1</td>\n      <td>0</td>\n      <td>1</td>\n      <td>1212</td>\n      <td>2703</td>\n    </tr>\n    <tr>\n      <th>1145222</th>\n      <td>0</td>\n      <td>2800.0</td>\n      <td>675</td>\n      <td>2800.0</td>\n      <td>1</td>\n      <td>0</td>\n      <td>1</td>\n      <td>0</td>\n      <td>1</td>\n      <td>0</td>\n      <td>0</td>\n      <td>0</td>\n      <td>0</td>\n      <td>263</td>\n      <td>196</td>\n    </tr>\n    <tr>\n      <th>1891978</th>\n      <td>1</td>\n      <td>2500.0</td>\n      <td>804</td>\n      <td>2500.0</td>\n      <td>1</td>\n      <td>0</td>\n      <td>1</td>\n      <td>0</td>\n      <td>0</td>\n      <td>0</td>\n      <td>1</td>\n      <td>0</td>\n      <td>0</td>\n      <td>27</td>\n      <td>2822</td>\n    </tr>\n    <tr>\n      <th>1515007</th>\n      <td>1</td>\n      <td>2000.0</td>\n      <td>2646</td>\n      <td>2000.0</td>\n      <td>0</td>\n      <td>0</td>\n      <td>1</td>\n      <td>0</td>\n      <td>0</td>\n      <td>0</td>\n      <td>0</td>\n      <td>0</td>\n      <td>0</td>\n      <td>1634</td>\n      <td>5530</td>\n    </tr>\n  </tbody>\n</table>\n</div>"
     },
     "metadata": {},
     "execution_count": 2
    }
   ],
   "source": [
    "# 读取数据\n",
    "samples_data = pd.read_csv(\"./data/criteo_train_lessTags.txt\")\n",
    "samples_data = shuffle(samples_data)\n",
    "samples_data.head()"
   ]
  },
  {
   "cell_type": "code",
   "execution_count": 3,
   "metadata": {},
   "outputs": [
    {
     "output_type": "stream",
     "name": "stdout",
     "text": [
      "C1 541607\nC2 405609\nC3 606150\nC4 271846\nC5 161517\nC6 79194\nC7 1209893\nC8 741835\nC9 361755\n"
     ]
    }
   ],
   "source": [
    "for i in range(1,10):\n",
    "    print('C'+str(i),samples_data['C'+str(i)].sum())"
   ]
  },
  {
   "cell_type": "code",
   "execution_count": 4,
   "metadata": {},
   "outputs": [
    {
     "output_type": "execute_result",
     "data": {
      "text/plain": [
       "         label      I1     I2      I3  C1  C2  C3  C4  C5  C6  C7  C8  C9  \\\n",
       "430412       1  2200.0   1156  2200.0   0   1   1   0   0   0   0   0   0   \n",
       "2555534      0   900.0  12381   900.0   0   0   0   0   0   0   1   0   1   \n",
       "1145222      0  2800.0    675  2800.0   1   0   1   0   1   0   0   0   0   \n",
       "1891978      1  2500.0    804  2500.0   1   0   1   0   0   0   1   0   0   \n",
       "1515007      1  2000.0   2646  2000.0   0   0   1   0   0   0   0   0   0   \n",
       "\n",
       "          C10   C11  user_id  movie_id  movie_type_id  \n",
       "430412   1332  4866     1332      4866              4  \n",
       "2555534  1212  2703     1212      2703              1  \n",
       "1145222   263   196      263       196              4  \n",
       "1891978    27  2822       27      2822              1  \n",
       "1515007  1634  5530     1634      5530              4  "
      ],
      "text/html": "<div>\n<style scoped>\n    .dataframe tbody tr th:only-of-type {\n        vertical-align: middle;\n    }\n\n    .dataframe tbody tr th {\n        vertical-align: top;\n    }\n\n    .dataframe thead th {\n        text-align: right;\n    }\n</style>\n<table border=\"1\" class=\"dataframe\">\n  <thead>\n    <tr style=\"text-align: right;\">\n      <th></th>\n      <th>label</th>\n      <th>I1</th>\n      <th>I2</th>\n      <th>I3</th>\n      <th>C1</th>\n      <th>C2</th>\n      <th>C3</th>\n      <th>C4</th>\n      <th>C5</th>\n      <th>C6</th>\n      <th>C7</th>\n      <th>C8</th>\n      <th>C9</th>\n      <th>C10</th>\n      <th>C11</th>\n      <th>user_id</th>\n      <th>movie_id</th>\n      <th>movie_type_id</th>\n    </tr>\n  </thead>\n  <tbody>\n    <tr>\n      <th>430412</th>\n      <td>1</td>\n      <td>2200.0</td>\n      <td>1156</td>\n      <td>2200.0</td>\n      <td>0</td>\n      <td>1</td>\n      <td>1</td>\n      <td>0</td>\n      <td>0</td>\n      <td>0</td>\n      <td>0</td>\n      <td>0</td>\n      <td>0</td>\n      <td>1332</td>\n      <td>4866</td>\n      <td>1332</td>\n      <td>4866</td>\n      <td>4</td>\n    </tr>\n    <tr>\n      <th>2555534</th>\n      <td>0</td>\n      <td>900.0</td>\n      <td>12381</td>\n      <td>900.0</td>\n      <td>0</td>\n      <td>0</td>\n      <td>0</td>\n      <td>0</td>\n      <td>0</td>\n      <td>0</td>\n      <td>1</td>\n      <td>0</td>\n      <td>1</td>\n      <td>1212</td>\n      <td>2703</td>\n      <td>1212</td>\n      <td>2703</td>\n      <td>1</td>\n    </tr>\n    <tr>\n      <th>1145222</th>\n      <td>0</td>\n      <td>2800.0</td>\n      <td>675</td>\n      <td>2800.0</td>\n      <td>1</td>\n      <td>0</td>\n      <td>1</td>\n      <td>0</td>\n      <td>1</td>\n      <td>0</td>\n      <td>0</td>\n      <td>0</td>\n      <td>0</td>\n      <td>263</td>\n      <td>196</td>\n      <td>263</td>\n      <td>196</td>\n      <td>4</td>\n    </tr>\n    <tr>\n      <th>1891978</th>\n      <td>1</td>\n      <td>2500.0</td>\n      <td>804</td>\n      <td>2500.0</td>\n      <td>1</td>\n      <td>0</td>\n      <td>1</td>\n      <td>0</td>\n      <td>0</td>\n      <td>0</td>\n      <td>1</td>\n      <td>0</td>\n      <td>0</td>\n      <td>27</td>\n      <td>2822</td>\n      <td>27</td>\n      <td>2822</td>\n      <td>1</td>\n    </tr>\n    <tr>\n      <th>1515007</th>\n      <td>1</td>\n      <td>2000.0</td>\n      <td>2646</td>\n      <td>2000.0</td>\n      <td>0</td>\n      <td>0</td>\n      <td>1</td>\n      <td>0</td>\n      <td>0</td>\n      <td>0</td>\n      <td>0</td>\n      <td>0</td>\n      <td>0</td>\n      <td>1634</td>\n      <td>5530</td>\n      <td>1634</td>\n      <td>5530</td>\n      <td>4</td>\n    </tr>\n  </tbody>\n</table>\n</div>"
     },
     "metadata": {},
     "execution_count": 4
    }
   ],
   "source": [
    "samples_data['user_id']=samples_data['C10']\n",
    "samples_data['movie_id']=samples_data['C11']\n",
    "samples_data['movie_type_id']=0\n",
    "samples_data.loc[samples_data['C7']==1,'movie_type_id']=1\n",
    "samples_data.loc[(samples_data['C7']==0)&(samples_data['C8']==1),'movie_type_id']=2\n",
    "samples_data.loc[(samples_data['C7']==0)&(samples_data['C8']==0)&(samples_data['C6']==1),'movie_type_id']=3\n",
    "samples_data.loc[(samples_data['C7']==0)&(samples_data['C8']==0)&(samples_data['C6']==0)&(samples_data['C3']==1),'movie_type_id']=4\n",
    "samples_data.head()"
   ]
  },
  {
   "cell_type": "code",
   "execution_count": 6,
   "metadata": {},
   "outputs": [
    {
     "output_type": "execute_result",
     "data": {
      "text/plain": [
       "   user_id                                      hist_movie_id\n",
       "0        0  [2310, 3418, 2586, 2334, 2686, 2859, 4879, 25,...\n",
       "1        1  [2644, 2792, 2792, 2602, 2431, 2269, 2792, 165...\n",
       "2        2  [2586, 2586, 2586, 2586, 2586, 2586, 2586, 258...\n",
       "3        3  [1178, 5337, 109, 2732, 2656, 2586, 2656, 2656...\n",
       "4        4  [146, 2822, 5140, 4233, 2510, 2482, 2510, 1297..."
      ],
      "text/html": "<div>\n<style scoped>\n    .dataframe tbody tr th:only-of-type {\n        vertical-align: middle;\n    }\n\n    .dataframe tbody tr th {\n        vertical-align: top;\n    }\n\n    .dataframe thead th {\n        text-align: right;\n    }\n</style>\n<table border=\"1\" class=\"dataframe\">\n  <thead>\n    <tr style=\"text-align: right;\">\n      <th></th>\n      <th>user_id</th>\n      <th>hist_movie_id</th>\n    </tr>\n  </thead>\n  <tbody>\n    <tr>\n      <th>0</th>\n      <td>0</td>\n      <td>[2310, 3418, 2586, 2334, 2686, 2859, 4879, 25,...</td>\n    </tr>\n    <tr>\n      <th>1</th>\n      <td>1</td>\n      <td>[2644, 2792, 2792, 2602, 2431, 2269, 2792, 165...</td>\n    </tr>\n    <tr>\n      <th>2</th>\n      <td>2</td>\n      <td>[2586, 2586, 2586, 2586, 2586, 2586, 2586, 258...</td>\n    </tr>\n    <tr>\n      <th>3</th>\n      <td>3</td>\n      <td>[1178, 5337, 109, 2732, 2656, 2586, 2656, 2656...</td>\n    </tr>\n    <tr>\n      <th>4</th>\n      <td>4</td>\n      <td>[146, 2822, 5140, 4233, 2510, 2482, 2510, 1297...</td>\n    </tr>\n  </tbody>\n</table>\n</div>"
     },
     "metadata": {},
     "execution_count": 6
    }
   ],
   "source": [
    "hist_click =samples_data[['user_id', 'movie_id']].groupby('user_id').agg({list}).reset_index()\n",
    "his_behavior_df = pd.DataFrame()\n",
    "his_behavior_df['user_id'] = hist_click['user_id']\n",
    "his_behavior_df['hist_movie_id'] = hist_click['movie_id']\n",
    "#minlen=min(his_behavior_df['hist_movie_id'].map(lambda x:len(x)))\n",
    "#his_behavior_df['hist_movie_id']=his_behavior_df['hist_movie_id'].map(lambda x:x[:minlen])#不能直接drop,否则报错，很奇怪，此处是截断操作\n",
    "# 通过下面的padding可以做到长度都为50，就不需要截断了\n",
    "his_behavior_df.head()"
   ]
  },
  {
   "cell_type": "code",
   "execution_count": 43,
   "metadata": {},
   "outputs": [],
   "source": [
    "#his_behavior_df.drop(his_behavior_df[his_behavior_df['hist_movie_id'].map(lambda x:len(x)<50)].index,inplace=True)\n",
    "#his_behavior_df['hist_movie_id']=his_behavior_df['hist_movie_id'].map(lambda x:x[:50])"
   ]
  },
  {
   "cell_type": "code",
   "execution_count": 62,
   "metadata": {},
   "outputs": [
    {
     "output_type": "execute_result",
     "data": {
      "text/plain": [
       "6"
      ]
     },
     "metadata": {},
     "execution_count": 62
    }
   ],
   "source": [
    "min(his_behavior_df['hist_movie_id'].map(lambda x:len(x)))"
   ]
  },
  {
   "cell_type": "code",
   "execution_count": 12,
   "metadata": {},
   "outputs": [
    {
     "output_type": "execute_result",
     "data": {
      "text/plain": [
       "   label      I1     I2      I3  C1  C2  C3  C4  C5  C6  C7  C8  C9   C10  \\\n",
       "0      1  2200.0   1156  2200.0   0   1   1   0   0   0   0   0   0  1332   \n",
       "1      0   900.0  12381   900.0   0   0   0   0   0   0   1   0   1  1212   \n",
       "2      0  2800.0    675  2800.0   1   0   1   0   1   0   0   0   0   263   \n",
       "3      1  2500.0    804  2500.0   1   0   1   0   0   0   1   0   0    27   \n",
       "4      1  2000.0   2646  2000.0   0   0   1   0   0   0   0   0   0  1634   \n",
       "\n",
       "    C11  user_id  movie_id  movie_type_id  \\\n",
       "0  4866     1332      4866              4   \n",
       "1  2703     1212      2703              1   \n",
       "2   196      263       196              4   \n",
       "3  2822       27      2822              1   \n",
       "4  5530     1634      5530              4   \n",
       "\n",
       "                                       hist_movie_id  \n",
       "0  [4866, 3800, 4212, 1152, 2695, 4212, 4905, 523...  \n",
       "1  [2703, 2788, 2166, 2462, 2649, 2721, 2703, 290...  \n",
       "2  [196, 2812, 2812, 2812, 2586, 1555, 1690, 3881...  \n",
       "3  [2822, 2429, 2784, 1571, 2719, 2696, 2429, 278...  \n",
       "4  [5530, 2771, 2724, 5345, 1819, 2724, 2771, 277...  "
      ],
      "text/html": "<div>\n<style scoped>\n    .dataframe tbody tr th:only-of-type {\n        vertical-align: middle;\n    }\n\n    .dataframe tbody tr th {\n        vertical-align: top;\n    }\n\n    .dataframe thead th {\n        text-align: right;\n    }\n</style>\n<table border=\"1\" class=\"dataframe\">\n  <thead>\n    <tr style=\"text-align: right;\">\n      <th></th>\n      <th>label</th>\n      <th>I1</th>\n      <th>I2</th>\n      <th>I3</th>\n      <th>C1</th>\n      <th>C2</th>\n      <th>C3</th>\n      <th>C4</th>\n      <th>C5</th>\n      <th>C6</th>\n      <th>C7</th>\n      <th>C8</th>\n      <th>C9</th>\n      <th>C10</th>\n      <th>C11</th>\n      <th>user_id</th>\n      <th>movie_id</th>\n      <th>movie_type_id</th>\n      <th>hist_movie_id</th>\n    </tr>\n  </thead>\n  <tbody>\n    <tr>\n      <th>0</th>\n      <td>1</td>\n      <td>2200.0</td>\n      <td>1156</td>\n      <td>2200.0</td>\n      <td>0</td>\n      <td>1</td>\n      <td>1</td>\n      <td>0</td>\n      <td>0</td>\n      <td>0</td>\n      <td>0</td>\n      <td>0</td>\n      <td>0</td>\n      <td>1332</td>\n      <td>4866</td>\n      <td>1332</td>\n      <td>4866</td>\n      <td>4</td>\n      <td>[4866, 3800, 4212, 1152, 2695, 4212, 4905, 523...</td>\n    </tr>\n    <tr>\n      <th>1</th>\n      <td>0</td>\n      <td>900.0</td>\n      <td>12381</td>\n      <td>900.0</td>\n      <td>0</td>\n      <td>0</td>\n      <td>0</td>\n      <td>0</td>\n      <td>0</td>\n      <td>0</td>\n      <td>1</td>\n      <td>0</td>\n      <td>1</td>\n      <td>1212</td>\n      <td>2703</td>\n      <td>1212</td>\n      <td>2703</td>\n      <td>1</td>\n      <td>[2703, 2788, 2166, 2462, 2649, 2721, 2703, 290...</td>\n    </tr>\n    <tr>\n      <th>2</th>\n      <td>0</td>\n      <td>2800.0</td>\n      <td>675</td>\n      <td>2800.0</td>\n      <td>1</td>\n      <td>0</td>\n      <td>1</td>\n      <td>0</td>\n      <td>1</td>\n      <td>0</td>\n      <td>0</td>\n      <td>0</td>\n      <td>0</td>\n      <td>263</td>\n      <td>196</td>\n      <td>263</td>\n      <td>196</td>\n      <td>4</td>\n      <td>[196, 2812, 2812, 2812, 2586, 1555, 1690, 3881...</td>\n    </tr>\n    <tr>\n      <th>3</th>\n      <td>1</td>\n      <td>2500.0</td>\n      <td>804</td>\n      <td>2500.0</td>\n      <td>1</td>\n      <td>0</td>\n      <td>1</td>\n      <td>0</td>\n      <td>0</td>\n      <td>0</td>\n      <td>1</td>\n      <td>0</td>\n      <td>0</td>\n      <td>27</td>\n      <td>2822</td>\n      <td>27</td>\n      <td>2822</td>\n      <td>1</td>\n      <td>[2822, 2429, 2784, 1571, 2719, 2696, 2429, 278...</td>\n    </tr>\n    <tr>\n      <th>4</th>\n      <td>1</td>\n      <td>2000.0</td>\n      <td>2646</td>\n      <td>2000.0</td>\n      <td>0</td>\n      <td>0</td>\n      <td>1</td>\n      <td>0</td>\n      <td>0</td>\n      <td>0</td>\n      <td>0</td>\n      <td>0</td>\n      <td>0</td>\n      <td>1634</td>\n      <td>5530</td>\n      <td>1634</td>\n      <td>5530</td>\n      <td>4</td>\n      <td>[5530, 2771, 2724, 5345, 1819, 2724, 2771, 277...</td>\n    </tr>\n  </tbody>\n</table>\n</div>"
     },
     "metadata": {},
     "execution_count": 12
    }
   ],
   "source": [
    "samples_data=samples_data.merge(his_behavior_df,on='user_id',how='left')\n",
    "samples_data.head()"
   ]
  },
  {
   "source": [
    "# 使用函数设置特征"
   ],
   "cell_type": "markdown",
   "metadata": {}
  },
  {
   "cell_type": "code",
   "execution_count": 21,
   "metadata": {},
   "outputs": [],
   "source": [
    "from tensorflow.keras.preprocessing.sequence import pad_sequences\n",
    "# 数据准备函数\n",
    "def get_din_feats_columns(df, dense_fea, sparse_fea, behavior_fea, hist_behavior_fea, emb_dim=32, max_len=50):\n",
    "    \"\"\"\n",
    "    数据准备函数:\n",
    "    df: 数据集\n",
    "    dense_fea: 数值型特征列\n",
    "    sparse_fea: 离散型特征列\n",
    "    behavior_fea: 用户的候选行为特征列\n",
    "    his_behavior_fea: 用户的历史行为特征列\n",
    "    embedding_dim: embedding的维度， 这里为了简单， 统一把离散型特征列采用一样的隐向量维度\n",
    "    max_len: 用户序列的最大长度\n",
    "    \"\"\"\n",
    "    \n",
    "    sparse_feature_columns = [SparseFeat(feat, vocabulary_size=df[feat].nunique() + 1, embedding_dim=emb_dim) for feat in sparse_fea]\n",
    "    \n",
    "    dense_feature_columns = [DenseFeat(feat, 1, ) for feat in dense_fea]\n",
    "    \n",
    "    var_feature_columns = [VarLenSparseFeat(SparseFeat(feat, vocabulary_size=df['movie_id'].nunique() + 1,\n",
    "                            embedding_dim=emb_dim, embedding_name='movie_id'), maxlen=max_len) for feat in hist_behavior_fea]\n",
    "    #把短的seq直接padding一下，不需要截断\n",
    "    dnn_feature_columns = sparse_feature_columns + dense_feature_columns + var_feature_columns\n",
    "    \n",
    "    # 建立x, x是一个字典的形式\n",
    "    x = {}\n",
    "    for name in get_feature_names(dnn_feature_columns):\n",
    "        if name in hist_behavior_fea:\n",
    "            # 这是历史行为序列\n",
    "            his_list = [l for l in df[name]]\n",
    "            x[name] = pad_sequences(his_list, maxlen=max_len, padding='post')      # 二维数组\n",
    "        else:\n",
    "            x[name] = df[name].values\n",
    "    \n",
    "    return x, dnn_feature_columns"
   ]
  },
  {
   "cell_type": "code",
   "execution_count": 25,
   "metadata": {},
   "outputs": [],
   "source": [
    "# 稀疏特征\n",
    "sparse_fea = ['user_id', 'movie_id', 'movie_type_id']\n",
    "# 稠密特征\n",
    "dense_fea = [\"I1\", \"I2\"]\n",
    "# 行为特征列表，表示的是基础特征\n",
    "behavior_feature_list = ['movie_id']\n",
    "# 行为序列特征\n",
    "behavior_seq_feature_list = ['hist_movie_id']\n",
    "target=['label']\n",
    "X = samples_data[[\"user_id\", \"I1\", \"I2\", \"hist_movie_id\", \"movie_id\", \"movie_type_id\"]]\n",
    "y = samples_data[\"label\"]\n",
    "X_train,feature_columns=get_din_feats_columns(X,dense_fea,sparse_fea,behavior_feature_list,behavior_seq_feature_list)"
   ]
  },
  {
   "cell_type": "code",
   "execution_count": 26,
   "metadata": {},
   "outputs": [
    {
     "output_type": "stream",
     "name": "stdout",
     "text": [
      "WARNING:tensorflow:\n",
      "The following Variables were used a Lambda layer's call (lambda), but\n",
      "are not present in its tracked objects:\n",
      "  <tf.Variable 'attention_sequence_pooling_layer_2/local_activation_unit/kernel:0' shape=(40, 1) dtype=float32>\n",
      "  <tf.Variable 'attention_sequence_pooling_layer_2/local_activation_unit/bias:0' shape=(1,) dtype=float32>\n",
      "It is possible that this is intended behavior, but it is more likely\n",
      "an omission. This is a strong indication that this layer should be\n",
      "formulated as a subclassed Layer rather than a Lambda layer.\n",
      "35014/35014 [==============================] - 332s 9ms/step - loss: 0.2652 - auc: 0.9506 - val_loss: 0.0833 - val_auc: 0.9961\n"
     ]
    },
    {
     "output_type": "execute_result",
     "data": {
      "text/plain": [
       "<tensorflow.python.keras.callbacks.History at 0x7f266c47cca0>"
      ]
     },
     "metadata": {},
     "execution_count": 26
    }
   ],
   "source": [
    "model = DIN(feature_columns, behavior_feature_list, behavior_seq_feature_list)\n",
    "\n",
    "model.compile('adam',loss='binary_crossentropy', metrics=['AUC'])\n",
    "\n",
    "history=model.fit(X_train, samples_data[target].values, batch_size=64, epochs=1, validation_split=0.2, )"
   ]
  },
  {
   "source": [
    "# 手动设置特征"
   ],
   "cell_type": "markdown",
   "metadata": {}
  },
  {
   "cell_type": "code",
   "execution_count": 64,
   "metadata": {},
   "outputs": [
    {
     "output_type": "stream",
     "name": "stdout",
     "text": [
      "WARNING:tensorflow:AutoGraph could not transform <bound method AttentionSequencePoolingLayer.call of <deepctr.layers.sequence.AttentionSequencePoolingLayer object at 0x7f0f6b862790>> and will run it as-is.\n",
      "Please report this to the TensorFlow team. When filing the bug, set the verbosity to 10 (on Linux, `export AUTOGRAPH_VERBOSITY=10`) and attach the full output.\n",
      "Cause: module 'gast' has no attribute 'Index'\n",
      "To silence this warning, decorate the function with @tf.autograph.experimental.do_not_convert\n",
      "WARNING: AutoGraph could not transform <bound method AttentionSequencePoolingLayer.call of <deepctr.layers.sequence.AttentionSequencePoolingLayer object at 0x7f0f6b862790>> and will run it as-is.\n",
      "Please report this to the TensorFlow team. When filing the bug, set the verbosity to 10 (on Linux, `export AUTOGRAPH_VERBOSITY=10`) and attach the full output.\n",
      "Cause: module 'gast' has no attribute 'Index'\n",
      "To silence this warning, decorate the function with @tf.autograph.experimental.do_not_convert\n",
      "WARNING:tensorflow:AutoGraph could not transform <bound method LocalActivationUnit.call of <deepctr.layers.core.LocalActivationUnit object at 0x7f0f69a22d60>> and will run it as-is.\n",
      "Please report this to the TensorFlow team. When filing the bug, set the verbosity to 10 (on Linux, `export AUTOGRAPH_VERBOSITY=10`) and attach the full output.\n",
      "Cause: module 'gast' has no attribute 'Index'\n",
      "To silence this warning, decorate the function with @tf.autograph.experimental.do_not_convert\n",
      "WARNING: AutoGraph could not transform <bound method LocalActivationUnit.call of <deepctr.layers.core.LocalActivationUnit object at 0x7f0f69a22d60>> and will run it as-is.\n",
      "Please report this to the TensorFlow team. When filing the bug, set the verbosity to 10 (on Linux, `export AUTOGRAPH_VERBOSITY=10`) and attach the full output.\n",
      "Cause: module 'gast' has no attribute 'Index'\n",
      "To silence this warning, decorate the function with @tf.autograph.experimental.do_not_convert\n",
      "WARNING:tensorflow:AutoGraph could not transform <bound method DNN.call of <deepctr.layers.core.DNN object at 0x7f0f6b5c79d0>> and will run it as-is.\n",
      "Please report this to the TensorFlow team. When filing the bug, set the verbosity to 10 (on Linux, `export AUTOGRAPH_VERBOSITY=10`) and attach the full output.\n",
      "Cause: module 'gast' has no attribute 'Index'\n",
      "To silence this warning, decorate the function with @tf.autograph.experimental.do_not_convert\n",
      "WARNING: AutoGraph could not transform <bound method DNN.call of <deepctr.layers.core.DNN object at 0x7f0f6b5c79d0>> and will run it as-is.\n",
      "Please report this to the TensorFlow team. When filing the bug, set the verbosity to 10 (on Linux, `export AUTOGRAPH_VERBOSITY=10`) and attach the full output.\n",
      "Cause: module 'gast' has no attribute 'Index'\n",
      "To silence this warning, decorate the function with @tf.autograph.experimental.do_not_convert\n",
      "WARNING:tensorflow:\n",
      "The following Variables were used a Lambda layer's call (lambda), but\n",
      "are not present in its tracked objects:\n",
      "  <tf.Variable 'attention_sequence_pooling_layer/local_activation_unit/kernel:0' shape=(40, 1) dtype=float32>\n",
      "  <tf.Variable 'attention_sequence_pooling_layer/local_activation_unit/bias:0' shape=(1,) dtype=float32>\n",
      "It is possible that this is intended behavior, but it is more likely\n",
      "an omission. This is a strong indication that this layer should be\n",
      "formulated as a subclassed Layer rather than a Lambda layer.\n",
      "Epoch 1/5\n",
      "35014/35014 [==============================] - 235s 7ms/step - loss: 0.3014 - auc: 0.9345 - val_loss: 0.0994 - val_auc: 0.9938\n",
      "Epoch 2/5\n",
      "35014/35014 [==============================] - 239s 7ms/step - loss: 0.0964 - auc: 0.9940 - val_loss: 0.0854 - val_auc: 0.9956\n",
      "Epoch 3/5\n",
      "35009/35014 [============================>.] - ETA: 0s - loss: 0.0713 - auc: 0.9968"
     ]
    }
   ],
   "source": [
    "X = samples_data[[\"user_id\", \"I1\", \"I2\", \"hist_movie_id\", \"movie_id\", \"movie_type_id\"]]\n",
    "y = samples_data[\"label\"]\n",
    "\n",
    "X_train = {\"user_id\": np.array(X[\"user_id\"]), \\\n",
    "            \"hist_movie_id\": np.array([[int(i) for i in l] for l in X[\"hist_movie_id\"]]), \\\n",
    "            \"I1\": np.array(X[\"I1\"]), \\\n",
    "            \"I2\": np.array(X[\"I2\"]), \\\n",
    "            \"movie_id\": np.array(X[\"movie_id\"]), \\\n",
    "            \"movie_type_id\": np.array(X[\"movie_type_id\"])}\n",
    "\n",
    "y_train = np.array(y)\n",
    "\n",
    "feature_columns = [SparseFeat('user_id', max(samples_data[\"user_id\"])+1, embedding_dim=8), \n",
    "                        SparseFeat('movie_id', max(samples_data[\"movie_id\"])+1, embedding_dim=8),\n",
    "                        SparseFeat('movie_type_id', max(samples_data[\"movie_type_id\"])+1, embedding_dim=8),\n",
    "                        DenseFeat('I1', 1),DenseFeat('I2', 1)]\n",
    "\n",
    "feature_columns += [VarLenSparseFeat(SparseFeat('hist_movie_id', vocabulary_size=max(samples_data[\"movie_id\"])+1, embedding_dim=8), maxlen=min(his_behavior_df['hist_movie_id'].map(lambda x:len(x))))]# maxlen为序列最短值\n",
    "\n",
    "\n",
    "\n",
    "history = DIN(feature_columns, behavior_feature_list, behavior_seq_feature_list)\n",
    "    \n",
    "history.compile('adam',loss='binary_crossentropy', metrics=['AUC'])\n",
    "\n",
    "history.fit(X_train, y_train, batch_size=64, epochs=1, validation_split=0.2, )"
   ]
  },
  {
   "cell_type": "code",
   "execution_count": null,
   "metadata": {},
   "outputs": [],
   "source": []
  }
 ]
}